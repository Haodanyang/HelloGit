{
 "cells": [
  {
   "cell_type": "markdown",
   "metadata": {},
   "source": [
    "# 获取金融数据\n",
    "-----------------------------------By Patrick 黄瀚祺\n",
    "## 1、RESTFul API\n",
    "## 2、开源数据 JAQS，Tushare\n",
    "## 3、￥￥￥"
   ]
  },
  {
   "cell_type": "markdown",
   "metadata": {},
   "source": [
    "\n",
    "\n",
    "可导入品种类型：Oanda、A股、商品期货、OKEX\n",
    "\n",
    "## Install\n",
    "vnpy_fxdayu: https://github.com/xingetouzi/vnpy_fxdayu\n",
    "\n",
    "Mongodb: https://www.mongodb.com/download-center#community\n",
    "\n",
    "安装说明: https://github.com/xingetouzi/vnpy_fxdayu/wiki/Windows环境安装\n",
    "\n",
    "建议安装robomongo作为可视化数据库管理"
   ]
  },
  {
   "cell_type": "markdown",
   "metadata": {},
   "source": [
    "## **导入模块**(request、json、pandas)"
   ]
  },
  {
   "cell_type": "code",
   "execution_count": 1,
   "metadata": {},
   "outputs": [],
   "source": [
    "import pandas as pd\n",
    "from datetime import datetime,timedelta\n",
    "import requests"
   ]
  },
  {
   "cell_type": "markdown",
   "metadata": {},
   "source": [
    " ## API说明:   http://developer.oanda.com/rest-live/rates/#retrieveInstrumentHistory"
   ]
  },
  {
   "cell_type": "markdown",
   "metadata": {},
   "source": [
    "`count`为返回的蜡烛数，如果没有指定，数量将默认为500，最大可接受值数是5000。\n",
    "\n",
    "`candleFormat` 为可选的蜡烛参数表示，“midpoint” - 基于中点的参数。“bidask” - 基于买/卖的参数，如果未指定candleFormat参数，candleFormat的默认值为“bidask”。\n",
    "\n",
    "`granularity`为可选每个参数表示的时间范围。\n",
    "秒可选为S5、S10、S15、S30、M1;\n",
    "\n",
    "分钟可选为M2、M3、M4、M5、M10、M15、M30、H1;\n",
    "\n",
    "小时可选为H2、H3、H4、H6、H8、H12、D.\n",
    "\n",
    "其中D为1day,W为1week,M为1month.\n",
    "\n",
    "`url`中自行修改start的时间，其中`T15`为15点，表示收集当天15点以后的数据。\n",
    "获取数据后，再将数据转换为dataframe的格式。\n",
    "\n",
    "若收集一定区间的数据，在末端加上&end=\n"
   ]
  },
  {
   "cell_type": "code",
   "execution_count": 2,
   "metadata": {},
   "outputs": [
    {
     "data": {
      "text/html": [
       "<div>\n",
       "<style scoped>\n",
       "    .dataframe tbody tr th:only-of-type {\n",
       "        vertical-align: middle;\n",
       "    }\n",
       "\n",
       "    .dataframe tbody tr th {\n",
       "        vertical-align: top;\n",
       "    }\n",
       "\n",
       "    .dataframe thead th {\n",
       "        text-align: right;\n",
       "    }\n",
       "</style>\n",
       "<table border=\"1\" class=\"dataframe\">\n",
       "  <thead>\n",
       "    <tr style=\"text-align: right;\">\n",
       "      <th></th>\n",
       "      <th>close</th>\n",
       "      <th>complete</th>\n",
       "      <th>high</th>\n",
       "      <th>low</th>\n",
       "      <th>open</th>\n",
       "      <th>time</th>\n",
       "      <th>volume</th>\n",
       "      <th>datetime</th>\n",
       "    </tr>\n",
       "  </thead>\n",
       "  <tbody>\n",
       "    <tr>\n",
       "      <th>495</th>\n",
       "      <td>1230.4085</td>\n",
       "      <td>True</td>\n",
       "      <td>1230.500</td>\n",
       "      <td>1230.387</td>\n",
       "      <td>1230.4280</td>\n",
       "      <td>2018-10-29T08:36:00.000000Z</td>\n",
       "      <td>9</td>\n",
       "      <td>2018-10-29 08:36:00</td>\n",
       "    </tr>\n",
       "    <tr>\n",
       "      <th>496</th>\n",
       "      <td>1230.2030</td>\n",
       "      <td>True</td>\n",
       "      <td>1230.459</td>\n",
       "      <td>1230.203</td>\n",
       "      <td>1230.3680</td>\n",
       "      <td>2018-10-29T08:37:00.000000Z</td>\n",
       "      <td>8</td>\n",
       "      <td>2018-10-29 08:37:00</td>\n",
       "    </tr>\n",
       "    <tr>\n",
       "      <th>497</th>\n",
       "      <td>1230.0775</td>\n",
       "      <td>True</td>\n",
       "      <td>1230.162</td>\n",
       "      <td>1230.078</td>\n",
       "      <td>1230.1620</td>\n",
       "      <td>2018-10-29T08:38:00.000000Z</td>\n",
       "      <td>3</td>\n",
       "      <td>2018-10-29 08:38:00</td>\n",
       "    </tr>\n",
       "    <tr>\n",
       "      <th>498</th>\n",
       "      <td>1230.0235</td>\n",
       "      <td>True</td>\n",
       "      <td>1230.204</td>\n",
       "      <td>1229.993</td>\n",
       "      <td>1230.0365</td>\n",
       "      <td>2018-10-29T08:39:00.000000Z</td>\n",
       "      <td>18</td>\n",
       "      <td>2018-10-29 08:39:00</td>\n",
       "    </tr>\n",
       "    <tr>\n",
       "      <th>499</th>\n",
       "      <td>1229.9695</td>\n",
       "      <td>True</td>\n",
       "      <td>1230.113</td>\n",
       "      <td>1229.812</td>\n",
       "      <td>1229.9830</td>\n",
       "      <td>2018-10-29T08:40:00.000000Z</td>\n",
       "      <td>50</td>\n",
       "      <td>2018-10-29 08:40:00</td>\n",
       "    </tr>\n",
       "  </tbody>\n",
       "</table>\n",
       "</div>"
      ],
      "text/plain": [
       "         close  complete      high       low       open  \\\n",
       "495  1230.4085      True  1230.500  1230.387  1230.4280   \n",
       "496  1230.2030      True  1230.459  1230.203  1230.3680   \n",
       "497  1230.0775      True  1230.162  1230.078  1230.1620   \n",
       "498  1230.0235      True  1230.204  1229.993  1230.0365   \n",
       "499  1229.9695      True  1230.113  1229.812  1229.9830   \n",
       "\n",
       "                            time  volume            datetime  \n",
       "495  2018-10-29T08:36:00.000000Z       9 2018-10-29 08:36:00  \n",
       "496  2018-10-29T08:37:00.000000Z       8 2018-10-29 08:37:00  \n",
       "497  2018-10-29T08:38:00.000000Z       3 2018-10-29 08:38:00  \n",
       "498  2018-10-29T08:39:00.000000Z      18 2018-10-29 08:39:00  \n",
       "499  2018-10-29T08:40:00.000000Z      50 2018-10-29 08:40:00  "
      ]
     },
     "execution_count": 2,
     "metadata": {},
     "output_type": "execute_result"
    }
   ],
   "source": [
    "import json\n",
    "# OANDA\n",
    "def getCandles(instrument,granularity,candleFormat=None,count=None,start=None):\n",
    "    params = {'instrument':instrument,'granularity':granularity,'candleFormat':candleFormat,'count':count,'start':start}\n",
    "    url = \"https://api-fxtrade.oanda.com/v1/candles\"\n",
    "    r = requests.get(url, headers={\"contentType\": \"application/x-www-form-urlencoded\"}, params=params,timeout=10)\n",
    "    text = json.loads(r.content)\n",
    "    data = pd.DataFrame(text[\"candles\"])\n",
    "    data[\"datetime\"] = data[\"time\"].apply(pd.to_datetime)\n",
    "    data.rename(columns={'closeMid':'close', 'highMid':'high', 'lowMid':'low', 'openMid':'open'}, inplace = True)\n",
    "    return data\n",
    "\n",
    "getCandles('XAU_USD','M1','midpoint',start = '2018-10-29').tail()\n",
    "# granularity available:S5/ S10/ S15/ S30/ M1/ M2/ M3/ M4/ M5/ M10/ M15/ M30/ H1/ H2/ H3/ H4/ H6/ H8/ H12/ D/ W/ M"
   ]
  },
  {
   "cell_type": "markdown",
   "metadata": {},
   "source": [
    "## 导入数据到mongodb"
   ]
  },
  {
   "cell_type": "code",
   "execution_count": null,
   "metadata": {},
   "outputs": [],
   "source": [
    "symbol = 'XAU_USD'\n",
    "data =getCandles(symbol,'1M','midpoint',start = '2018-10-29')\n",
    "\n",
    "import pymongo\n",
    "client = pymongo.MongoClient('localhost', 27017)\n",
    "collection = client['FinData'][symbol]\n",
    "collection.create_index([('datetime', pymongo.ASCENDING)], unique=True)\n",
    "for index, row in data.iterrows():\n",
    "    bar = {}\n",
    "    bar['open'] = row.open\n",
    "    bar['close'] = row.close\n",
    "    bar['high'] = row.high\n",
    "    bar['low'] = row.low\n",
    "    bar['volume'] = row.volume\n",
    "    bar['symbol'] = symbol\n",
    "    bar['datetime'] = row.datetime\n",
    "    bar['date'] = bar['datetime'].date().strftime('%Y%m%d')\n",
    "    bar['time'] = bar['datetime'].time().strftime('%H:%M:%S')\n",
    "    flt = {'datetime': bar['datetime']}\n",
    "    collection.update_one(flt, {'$set':bar}, upsert=True)"
   ]
  }
 ],
 "metadata": {
  "kernelspec": {
   "display_name": "Python 3",
   "language": "python",
   "name": "python3"
  },
  "language_info": {
   "codemirror_mode": {
    "name": "ipython",
    "version": 3
   },
   "file_extension": ".py",
   "mimetype": "text/x-python",
   "name": "python",
   "nbconvert_exporter": "python",
   "pygments_lexer": "ipython3",
   "version": "3.6.4"
  }
 },
 "nbformat": 4,
 "nbformat_minor": 2
}
